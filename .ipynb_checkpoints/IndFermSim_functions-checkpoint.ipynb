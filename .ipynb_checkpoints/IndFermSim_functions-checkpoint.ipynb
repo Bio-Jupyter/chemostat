{
 "cells": [
  {
   "cell_type": "code",
   "execution_count": 1,
   "id": "2815d2fe-9f66-4452-ba54-b8746f813be3",
   "metadata": {},
   "outputs": [],
   "source": [
    "import matplotlib.pyplot as plt\n",
    "import matplotlib.patches as mpatches\n",
    "import numpy as np\n",
    "import math\n",
    "import ipywidgets\n",
    "\n"
   ]
  },
  {
   "cell_type": "code",
   "execution_count": 2,
   "id": "034544f7-f1de-4821-b8ec-c8eb17d3383e",
   "metadata": {
    "tags": []
   },
   "outputs": [],
   "source": [
    "def get_float_input(prompt):\n",
    "    while True:\n",
    "        try:\n",
    "            value = float(input(prompt))\n",
    "            return value\n",
    "        except ValueError:\n",
    "            print(\"Invalid input: please enter a numeric value.\")\n"
   ]
  },
  {
   "cell_type": "code",
   "execution_count": 3,
   "id": "a332bb56-b4a6-47eb-bbf7-d659a2b35d6d",
   "metadata": {
    "tags": []
   },
   "outputs": [],
   "source": [
    "def set_ylim(Y_xs1, Y_xs2, s_in1, s_in2, s1, s2):\n",
    "    if Y_xs1 > Y_xs2:\n",
    "        if s_in1 > s_in2:\n",
    "            plt.ylim([-0.05 ,Y_xs1 * ( s_in1 - s1[0]+ 3)])\n",
    "        else:\n",
    "             plt.ylim([-0.05 ,Y_xs1 * ( s_in2 - s2[0]+ 3)])   \n",
    "    else:\n",
    "        if s_in1 > s_in2:\n",
    "            plt.ylim([-0.05 ,Y_xs2 * ( s_in1 - s1[0]+ 3)])\n",
    "        else:\n",
    "             plt.ylim([-0.05 ,Y_xs2 * ( s_in2 - s2[0]+ 3)]) "
   ]
  },
  {
   "cell_type": "code",
   "execution_count": 4,
   "id": "b09531b2-1967-4369-b515-3a4d060ff359",
   "metadata": {
    "tags": []
   },
   "outputs": [],
   "source": [
    "def plot_graph(Y_xs, mu_max,s_in):\n",
    "    \n",
    "    Dcrit = mu_max * (s_in / (K_s + s_in))\n",
    "    Dopt = mu_max * (1 - (math.sqrt(K_s / (K_s + s_in))))\n",
    "    D = np.linspace(0, Dcrit, 1000)   # in 1/h\n",
    "    \n",
    "    s = K_s * (D / (mu_max - D))  \n",
    "    x = Y_xs * (s_in - s) \n",
    "    Dx = (mu_max * (s / (K_s + s))) * x  # Updated this line to use the new 'x'\n",
    "    plt.figure(figsize=(10, 6))\n",
    "    \n",
    "    plt.plot(D, s, label=\"Substrate Concentration 2\")\n",
    "    plt.plot(D, x, label=\"Biomass Concentration 2\")\n",
    "    plt.plot(D, Dx, label=\"Dx2\")\n",
    "    plt.plot(Dcrit, 0.0, marker='x')\n",
    "    plt.plot(Dopt, np.max(Dx), marker='o')\n",
    "\n",
    "    set_ylim(Y_xs1, Y_xs, s_in1, s_in, s1, s)\n",
    "\n",
    "    plt.legend()\n",
    "    plt.title(\"Continuous Process - Chemostat\")\n",
    "    plt.xlabel(\"D [h⁻¹]\")\n",
    "    plt.ylabel(\"s [gL⁻¹] , x [gL⁻¹], Dx [gL⁻¹h⁻¹]\")\n",
    "    plt.grid(True)\n",
    "    plt.show()"
   ]
  },
  {
   "cell_type": "code",
   "execution_count": null,
   "id": "47d15d98",
   "metadata": {},
   "outputs": [],
   "source": []
  }
 ],
 "metadata": {
  "kernelspec": {
   "display_name": "Python 3",
   "language": "python",
   "name": "python3"
  },
  "language_info": {
   "codemirror_mode": {
    "name": "ipython",
    "version": 3
   },
   "file_extension": ".py",
   "mimetype": "text/x-python",
   "name": "python",
   "nbconvert_exporter": "python",
   "pygments_lexer": "ipython3",
   "version": "3.7.6"
  }
 },
 "nbformat": 4,
 "nbformat_minor": 5
}
